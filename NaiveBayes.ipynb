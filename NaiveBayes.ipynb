{
 "cells": [
  {
   "cell_type": "code",
   "execution_count": 1,
   "id": "df3af17f-2709-4c52-9910-75fe175b7e6d",
   "metadata": {},
   "outputs": [],
   "source": [
    "# Data Analysis\n",
    "   \n",
    "import pandas as pd\n",
    "import numpy as np\n",
    "import os \n",
    "import missingno as msno\n",
    "import matplotlib.pyplot as plt\n",
    "\n",
    "import math\n",
    "from sklearn.preprocessing import MinMaxScaler\n",
    "import tensorflow as tf\n",
    "from tensorflow import keras\n",
    "from tensorflow.keras import layers\n",
    "\n",
    "    \n",
    "# Data View\n",
    "pd.options.display.max_columns = 200\n",
    "\n",
    "# Import Basic Visualization\n",
    "import seaborn as sns\n",
    "import matplotlib.pyplot as plt\n",
    "%matplotlib inline\n",
    "\n",
    "os.chdir('C:\\\\Users\\\\jason\\\\OneDrive\\\\Desktop\\\\NCU\\\\8535_Univariate Analysis\\\\Week 6')"
   ]
  },
  {
   "cell_type": "code",
   "execution_count": 2,
   "id": "c71fc070-fa77-4cfb-96e2-32128a548268",
   "metadata": {},
   "outputs": [],
   "source": [
    "df_raw= pd.read_csv(r\"C:\\Users\\jason\\OneDrive\\Desktop\\NCU\\8535_Univariate Analysis\\Week 6\\real_estate_inventory.csv\")"
   ]
  },
  {
   "cell_type": "code",
   "execution_count": 3,
   "id": "af945ba1-a4fb-4b0d-9670-6a499816afb4",
   "metadata": {},
   "outputs": [],
   "source": [
    "#create new variable for with month\n",
    "from datetime import datetime as dt\n",
    "df_raw[\"date\"] = pd.to_datetime(df_raw['date']).dt.to_period('D')\n",
    "df_raw['month'] = df_raw[\"date\"].dt.month"
   ]
  },
  {
   "cell_type": "code",
   "execution_count": 4,
   "id": "034b41a3-1b17-41bd-82c9-cc2d219b3e5c",
   "metadata": {},
   "outputs": [],
   "source": [
    "#rename the levels in 'type' for townhome, condo single family\n",
    "type = {'townhome': 0,'condo': 1, 'single family':2}\n",
    "df_raw.type = [type[item] for item in df_raw.type]\n",
    "#rename the levels in 'state' for NY, NJ, PA\n",
    "state = {'NY': 0,'NJ': 1, 'PA':2}\n",
    "df_raw.state = [state[item] for item in df_raw.state]"
   ]
  },
  {
   "cell_type": "code",
   "execution_count": 5,
   "id": "35717f3b-703c-4717-9d43-07a4d721faa4",
   "metadata": {},
   "outputs": [],
   "source": [
    "#Normalize using Min Max Transform for price, squareft, and acreage\n",
    "\n",
    "from sklearn import preprocessing\n",
    "normvar = df_raw[[\"price\", \"squareft\", \"acreage\"]]\n",
    "d = preprocessing.normalize(normvar,axis=0)\n",
    "scaled_df = pd.DataFrame(d, columns=[\"price_n\", \"squareft_n\", \"acreage_n\"])\n",
    "df_norm = pd.concat([df_raw, scaled_df], axis=1)"
   ]
  },
  {
   "cell_type": "code",
   "execution_count": 6,
   "id": "c154f046-f933-4e0d-974b-2c7c378b1550",
   "metadata": {},
   "outputs": [],
   "source": [
    "#Creating training and testing data\n",
    "X = df_norm.drop(['price', 'squareft', 'acreage', 'purchased', 'date'], axis=1)\n",
    "y = df_norm['purchased']\n",
    "\n",
    "from sklearn.model_selection import train_test_split\n",
    "# implementing train-test-split\n",
    "X_train, X_test, y_train, y_test = train_test_split(X, y, test_size=0.33, random_state=66)"
   ]
  },
  {
   "cell_type": "code",
   "execution_count": 7,
   "id": "71a7354f-1b55-4ef1-b2b2-56e41548f94b",
   "metadata": {},
   "outputs": [
    {
     "name": "stdout",
     "output_type": "stream",
     "text": [
      "<class 'pandas.core.frame.DataFrame'>\n",
      "RangeIndex: 5000 entries, 0 to 4999\n",
      "Data columns (total 18 columns):\n",
      " #   Column           Non-Null Count  Dtype    \n",
      "---  ------           --------------  -----    \n",
      " 0   date             5000 non-null   period[D]\n",
      " 1   type             5000 non-null   int64    \n",
      " 2   year_built       5000 non-null   int64    \n",
      " 3   bathrooms        5000 non-null   int64    \n",
      " 4   bedrooms         5000 non-null   int64    \n",
      " 5   state            5000 non-null   int64    \n",
      " 6   price            5000 non-null   int64    \n",
      " 7   hvac             5000 non-null   int64    \n",
      " 8   hardwood_floors  5000 non-null   int64    \n",
      " 9   fireplace        5000 non-null   int64    \n",
      " 10  squareft         5000 non-null   int64    \n",
      " 11  garage           5000 non-null   int64    \n",
      " 12  acreage          5000 non-null   float64  \n",
      " 13  purchased        5000 non-null   int64    \n",
      " 14  month            5000 non-null   int64    \n",
      " 15  price_n          5000 non-null   float64  \n",
      " 16  squareft_n       5000 non-null   float64  \n",
      " 17  acreage_n        5000 non-null   float64  \n",
      "dtypes: float64(4), int64(13), period[D](1)\n",
      "memory usage: 703.2 KB\n"
     ]
    }
   ],
   "source": [
    "df_norm.info()"
   ]
  },
  {
   "cell_type": "code",
   "execution_count": 13,
   "id": "99371e32-43fe-4da1-b42d-246a929b5851",
   "metadata": {},
   "outputs": [
    {
     "name": "stdout",
     "output_type": "stream",
     "text": [
      "=== Confusion Matrix ===\n",
      "[[490 311]\n",
      " [499 350]]\n",
      "\n",
      "\n",
      "=== Classification Report ===\n",
      "              precision    recall  f1-score   support\n",
      "\n",
      "           0       0.50      0.61      0.55       801\n",
      "           1       0.53      0.41      0.46       849\n",
      "\n",
      "    accuracy                           0.51      1650\n",
      "   macro avg       0.51      0.51      0.51      1650\n",
      "weighted avg       0.51      0.51      0.50      1650\n",
      "\n",
      "\n",
      "\n",
      "=== All AUC Scores ===\n",
      "[0.52256836 0.50831213 0.54104866 0.48530376 0.51564025 0.47237556\n",
      " 0.47352758 0.52804045 0.47546361 0.53517656]\n",
      "\n",
      "\n",
      "=== Mean AUC Score ===\n",
      "Mean AUC Score - Naive Bayes:  0.40060606060606063\n",
      "acuracy: 0.509090909090909\n",
      "precision: 0.529500756429652\n",
      "recall 0.4122497055359246\n",
      "              precision    recall  f1-score   support\n",
      "\n",
      "           0       0.50      0.61      0.55       801\n",
      "           1       0.53      0.41      0.46       849\n",
      "\n",
      "    accuracy                           0.51      1650\n",
      "   macro avg       0.51      0.51      0.51      1650\n",
      "weighted avg       0.51      0.51      0.50      1650\n",
      "\n"
     ]
    }
   ],
   "source": [
    "from sklearn.model_selection import cross_val_score\n",
    "from sklearn.metrics import classification_report, confusion_matrix\n",
    "from sklearn.naive_bayes import GaussianNB\n",
    "\n",
    "#Run Naive Bayes w/o tuning hyperparameters\n",
    "nbc = GaussianNB()\n",
    "nbc.fit(X_train,y_train)\n",
    "nbc_predict = nbc.predict(X_test)\n",
    "nbc_cv_score = cross_val_score(nbc, X, y, cv=10, scoring='roc_auc')\n",
    "print(\"=== Confusion Matrix ===\")\n",
    "print(confusion_matrix(y_test, nbc_predict))\n",
    "print('\\n')\n",
    "print(\"=== Classification Report ===\")\n",
    "print(classification_report(y_test, nbc_predict))\n",
    "print('\\n')\n",
    "print(\"=== All AUC Scores ===\")\n",
    "print(nbc_cv_score)\n",
    "print('\\n')\n",
    "print(\"=== Mean AUC Score ===\")\n",
    "print(\"Mean AUC Score - Naive Bayes: \", nbc_predict.mean())\n",
    "\n",
    "from sklearn import metrics\n",
    "#accuracy\n",
    "print(\"acuracy:\", metrics.accuracy_score(y_test,nbc_predict))\n",
    "#precision score\n",
    "print(\"precision:\", metrics.precision_score(y_test,nbc_predict))\n",
    "#recall score\n",
    "print(\"recall\" , metrics.recall_score(y_test,nbc_predict))\n",
    "print(metrics.classification_report(y_test, nbc_predict))"
   ]
  },
  {
   "cell_type": "code",
   "execution_count": 20,
   "id": "b0ef2e81-580c-4f6a-92cc-457940a0d87b",
   "metadata": {},
   "outputs": [
    {
     "name": "stderr",
     "output_type": "stream",
     "text": [
      "C:\\Users\\jason\\anaconda3\\lib\\site-packages\\numpy\\core\\_methods.py:236: RuntimeWarning: overflow encountered in multiply\n",
      "  x = um.multiply(x, x, out=x)\n",
      "C:\\Users\\jason\\anaconda3\\lib\\site-packages\\numpy\\core\\_methods.py:247: RuntimeWarning: overflow encountered in reduce\n",
      "  ret = umr_sum(x, axis, dtype, out, keepdims=keepdims, where=where)\n"
     ]
    },
    {
     "name": "stdout",
     "output_type": "stream",
     "text": [
      "Fitting 30 folds for each of 100 candidates, totalling 3000 fits\n"
     ]
    },
    {
     "data": {
      "text/plain": [
       "{'var_smoothing': 1.519911082952933e-06}"
      ]
     },
     "execution_count": 20,
     "metadata": {},
     "output_type": "execute_result"
    }
   ],
   "source": [
    "from sklearn.model_selection import RepeatedStratifiedKFold\n",
    "from sklearn.model_selection import train_test_split,GridSearchCV\n",
    "#identifying parameters\n",
    "\n",
    "cv_method = RepeatedStratifiedKFold(n_splits=10, \n",
    "                                    n_repeats=3, \n",
    "                                    random_state=66)\n",
    "\n",
    "from sklearn.preprocessing import PowerTransformer\n",
    "params_NB = {'var_smoothing': np.logspace(-2,-9, num=100)}\n",
    "\n",
    "gs_NB = GridSearchCV(estimator=nbc, \n",
    "                     param_grid=params_NB, \n",
    "                     cv=cv_method,\n",
    "                     verbose=1, \n",
    "                     scoring='roc_auc')\n",
    "\n",
    "Data_transformed = PowerTransformer().fit_transform(X_test)\n",
    "\n",
    "gs_NB.fit(Data_transformed, y_test);\n",
    "gs_NB.best_params_"
   ]
  },
  {
   "cell_type": "code",
   "execution_count": 16,
   "id": "d98a5035-ea75-4452-9cce-6e10683683de",
   "metadata": {},
   "outputs": [
    {
     "data": {
      "image/png": "[encoded data removed]",
      "text/plain": [
       "<Figure size 432x288 with 1 Axes>"
      ]
     },
     "metadata": {
      "needs_background": "light"
     },
     "output_type": "display_data"
    }
   ],
   "source": [
    "results_NB = pd.DataFrame(gs_NB.cv_results_['params'])\n",
    "results_NB['test_score'] = gs_NB.cv_results_['mean_test_score']\n",
    "\n",
    "plt.plot(results_NB['var_smoothing'], results_NB['test_score'], marker = '.')    \n",
    "plt.xlabel('Var. Smoothing')\n",
    "plt.ylabel(\"Mean CV Score\")\n",
    "plt.title(\"NB Performance Comparison\")\n",
    "plt.show()"
   ]
  },
  {
   "cell_type": "code",
   "execution_count": 21,
   "id": "4825d90e-2d81-4577-999e-55c8c771243c",
   "metadata": {},
   "outputs": [
    {
     "name": "stdout",
     "output_type": "stream",
     "text": [
      "=== Confusion Matrix ===\n",
      "[[490 311]\n",
      " [498 351]]\n",
      "\n",
      "\n",
      "=== Classification Report ===\n",
      "              precision    recall  f1-score   support\n",
      "\n",
      "           0       0.50      0.61      0.55       801\n",
      "           1       0.53      0.41      0.46       849\n",
      "\n",
      "    accuracy                           0.51      1650\n",
      "   macro avg       0.51      0.51      0.51      1650\n",
      "weighted avg       0.51      0.51      0.50      1650\n",
      "\n",
      "\n",
      "\n",
      "=== All AUC Scores ===\n",
      "[0.52264836 0.50850414 0.54095266 0.48533577 0.51578425 0.47258356\n",
      " 0.47355958 0.52816845 0.47554361 0.53527256]\n",
      "\n",
      "\n",
      "=== Mean AUC Score ===\n",
      "Mean AUC Score - Naive Bayes:  0.4012121212121212\n",
      "acuracy: 0.5096969696969696\n",
      "precision: 0.5302114803625377\n",
      "recall 0.4134275618374558\n",
      "              precision    recall  f1-score   support\n",
      "\n",
      "           0       0.50      0.61      0.55       801\n",
      "           1       0.53      0.41      0.46       849\n",
      "\n",
      "    accuracy                           0.51      1650\n",
      "   macro avg       0.51      0.51      0.51      1650\n",
      "weighted avg       0.51      0.51      0.50      1650\n",
      "\n"
     ]
    }
   ],
   "source": [
    "#Run Naive Bayes w/ tuning hyperparameters\n",
    "nbm = GaussianNB(var_smoothing=0)\n",
    "nbm.fit(X_train,y_train)\n",
    "nbm_predict = nbm.predict(X_test)\n",
    "nbm_cv_score = cross_val_score(nbm, X, y, cv=10, scoring='roc_auc')\n",
    "print(\"=== Confusion Matrix ===\")\n",
    "print(confusion_matrix(y_test, nbm_predict))\n",
    "print('\\n')\n",
    "print(\"=== Classification Report ===\")\n",
    "print(classification_report(y_test, nbm_predict))\n",
    "print('\\n')\n",
    "print(\"=== All AUC Scores ===\")\n",
    "print(nbm_cv_score)\n",
    "print('\\n')\n",
    "print(\"=== Mean AUC Score ===\")\n",
    "print(\"Mean AUC Score - Naive Bayes: \", nbm_predict.mean())\n",
    "\n",
    "#accuracy\n",
    "print(\"acuracy:\", metrics.accuracy_score(y_test,nbm_predict))\n",
    "#precision score\n",
    "print(\"precision:\", metrics.precision_score(y_test,nbm_predict))\n",
    "#recall score\n",
    "print(\"recall\" , metrics.recall_score(y_test,nbm_predict))\n",
    "print(metrics.classification_report(y_test, nbm_predict))"
   ]
  }
 ],
 "metadata": {
  "kernelspec": {
   "display_name": "Python 3",
   "language": "python",
   "name": "python3"
  },
  "language_info": {
   "codemirror_mode": {
    "name": "ipython",
    "version": 3
   },
   "file_extension": ".py",
   "mimetype": "text/x-python",
   "name": "python",
   "nbconvert_exporter": "python",
   "pygments_lexer": "ipython3",
   "version": "3.8.8"
  }
 },
 "nbformat": 4,
 "nbformat_minor": 5
}
