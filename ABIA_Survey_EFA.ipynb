{
 "cells": [
  {
   "cell_type": "raw",
   "id": "baccbed8-ca2d-4581-be44-4d166a4b4f17",
   "metadata": {},
   "source": [
    "def missing(df) : \n",
    "    missing_number = df.isnull().sum().sort_values(ascending = False)\n",
    "    missing_percent = (df.isnull().sum()/df.isnull().count()).sort_values(ascending = False)\n",
    "    missing_values = pd.concat([missing_number, missing_percent], axis = 1, keys = ['Missing_number', 'Missing_percent'])\n",
    "    return missing_values \n",
    "\n",
    "def categorize(df) :\n",
    "    Quantitive_features = df.select_dtypes([np.number]).columns.tolist()\n",
    "    Categorical_features = df.select_dtypes(exclude = [np.number]).columns.tolist()\n",
    "    Discrete_features = [col for col in Quantitive_features if len(df[col].unique()) < 200]\n",
    "    Continuous_features = [col for col in Quantitive_features if col not in Discrete_features]\n",
    "    print(\"Quantitive feautres : {} \\nDiscrete features : {} \\nContinous features : {} \\nCategorical features : {}\\n\"\n",
    "     .format(Quantitive_features, Discrete_features, Continuous_features, Categorical_features))\n",
    "    print(\"Number of quantitive feautres : {} \\nNumber of discrete features : {} \\nNumber of continous features : {} \\nNumber of categorical features : {}\"\n",
    "     .format(len(Quantitive_features), len(Discrete_features), len(Continuous_features), len(Categorical_features)))\n",
    "    return Quantitive_features, Categorical_features, Discrete_features, Continuous_features\n",
    "    \n",
    "def unique(df) : \n",
    "    tb1 = pd.DataFrame({'Columns' : df.columns, 'Number_of_Unique' : df.nunique().values.tolist(),\n",
    "                       'Sample1' : df.sample(1).values.tolist()[0], 'Sample2' : df.sample(1).values.tolist()[0], \n",
    "                       'Sample3' : df.sample(1).values.tolist()[0],\n",
    "                       'Sample4' : df.sample(1).values.tolist()[0], 'Sample5' : df.sample(1).values.tolist()[0]})\n",
    "    return tb1\n",
    "    \n",
    "def data_glimpse(df) :  \n",
    "      # Dataset preview \n",
    "    print(\"1. Dataset Preview \\n\")\n",
    "    display(df.head())\n",
    "    print(\"-------------------------------------------------------------------------------\\n\")\n",
    "    \n",
    "    # Columns imformation\n",
    "    print(\"2. Column Imformation \\n\")\n",
    "    print(\"Dataset have {} rows and {} columns\".format(df.shape[0], df.shape[1]))\n",
    "    print(\"\\n\") \n",
    "    print(\"Dataset Column name : {}\".format(df.columns.values))\n",
    "    print(\"\\n\")\n",
    "    categorize(df)\n",
    "    print(\"-------------------------------------------------------------------------------\\n\")\n",
    "    \n",
    "    # Basic imformation table \n",
    "    print(\"3. Missing data table : \\n\")\n",
    "    display(missing(df))\n",
    "    print(\"-------------------------------------------------------------------------------\\n\")\n",
    "    \n",
    "    print(\"4. Number of unique value by column : \\n\")\n",
    "    display(unique(df))\n",
    "    print(\"-------------------------------------------------------------------------------\\n\")\n",
    "    \n",
    "    print(\"5. Describe table : \\n\")\n",
    "    display(df.describe())\n",
    "    print(\"-------------------------------------------------------------------------------\\n\")\n",
    "    \n",
    "    print(df.info())\n",
    "    print(\"-------------------------------------------------------------------------------\\n\")"
   ]
  },
  {
   "cell_type": "raw",
   "id": "7cab1afd-07df-47d0-b638-a21b4e3a4cff",
   "metadata": {},
   "source": [
    "# Data Analysis\n",
    "import warnings \n",
    "warnings.filterwarnings('ignore')\n",
    "    \n",
    "import pandas as pd\n",
    "import numpy as np\n",
    "import os \n",
    "import missingno as msno\n",
    "import matplotlib.pyplot as plt\n",
    "    \n",
    "# Data View\n",
    "pd.options.display.max_columns = 200\n",
    "\n",
    "# Import Basic Visualization\n",
    "import seaborn as sns\n",
    "import matplotlib.pyplot as plt\n",
    "%matplotlib inline\n",
    "    \n"
   ]
  },
  {
   "cell_type": "raw",
   "id": "00b1f88b-8c6e-4cfb-82fb-086ef22ccc67",
   "metadata": {},
   "source": [
    "df_raw= pd.read_csv(\"C:\\\\Users\\\\jason\\\\OneDrive\\\\Desktop\\\\NCU\\\\8525_Multivariate Analysis\\\\Week 8\\\\Airport_Quarterly_Passenger_Survey.csv\")"
   ]
  },
  {
   "cell_type": "raw",
   "id": "c97177c1-70a5-4445-b0e0-d39372a5e8ed",
   "metadata": {},
   "source": [
    "data_glimpse(df_raw)"
   ]
  },
  {
   "cell_type": "raw",
   "id": "4450530f-e432-4e6a-b735-05555a6368f0",
   "metadata": {},
   "source": [
    "#Check Data Type\n",
    "df_raw.dtypes"
   ]
  },
  {
   "cell_type": "raw",
   "id": "d3f9aa55-40b7-43f4-8d19-10d6d24bcc49",
   "metadata": {},
   "source": [
    "df_raw.head() #preview first five rows"
   ]
  },
  {
   "cell_type": "raw",
   "id": "64f74df8-685d-4f93-89d8-6db6d09e014f",
   "metadata": {},
   "source": [
    "df_raw.describe() #get summary statistics about the dataset"
   ]
  },
  {
   "cell_type": "raw",
   "id": "5c635989-c898-4f70-837d-57c86500a3db",
   "metadata": {},
   "source": [
    "df_raw.info() #get additional detail from data i.e., count of non-null"
   ]
  },
  {
   "cell_type": "raw",
   "id": "9da1e15d-70ca-4a4d-8203-7930f7e2cff4",
   "metadata": {},
   "source": [
    "#Removing any row with NA's in the response variable\n",
    "\n",
    "df_dropna = df_raw.dropna(subset=['Overall satisfaction'])\n",
    "df_dropna.describe()"
   ]
  },
  {
   "cell_type": "raw",
   "id": "bb15c0c0-de6c-4209-8e82-132a7b97c577",
   "metadata": {},
   "source": [
    "# Impute median value to NAs\n",
    "df_impute = df_dropna.fillna(df_dropna.median())\n",
    "df_impute.describe()"
   ]
  },
  {
   "cell_type": "raw",
   "id": "7f6f3f3c-edcf-4148-950e-4b636a817250",
   "metadata": {},
   "source": [
    "# Glimpse new data after imputation\n",
    "\n",
    "data_glimpse(df_impute)"
   ]
  },
  {
   "cell_type": "raw",
   "id": "db3858be-0a7e-479a-a806-3a542588cb1e",
   "metadata": {},
   "source": [
    "# Check the average of values for the explanatary variables. Grouped by the response variable.\n",
    "df_impute.groupby('Overall satisfaction').mean()"
   ]
  },
  {
   "cell_type": "raw",
   "id": "03d2333b-2be1-4b50-8106-d7b756a26b4d",
   "metadata": {},
   "source": [
    "#Removing any row with 0's in the response variable\n",
    "\n",
    "df_clean = df_impute[(df_impute[['Overall satisfaction']] != 0).all(axis=1)]\n",
    "df_clean.describe()"
   ]
  },
  {
   "cell_type": "raw",
   "id": "7400fa4c-7bc9-482e-beb1-d3855d831bf7",
   "metadata": {},
   "source": [
    "#Correlation matrix\n",
    "\n",
    "plt.figure(figsize=(20,10))\n",
    "c= df_clean.corr()\n",
    "sns.heatmap(c)"
   ]
  },
  {
   "cell_type": "raw",
   "id": "77e74cff-87a4-4480-8290-45550e00a3cf",
   "metadata": {},
   "source": [
    "# Create Correlation Matrix\n",
    "corrmatrix = df_clean.corr()\n",
    "print(corrmatrix)"
   ]
  },
  {
   "cell_type": "raw",
   "id": "ba011cbd-62ac-4f56-b090-c965a2b86f34",
   "metadata": {},
   "source": [
    "# Bar chart of frequency in the response variable\n",
    "# series of counts\n",
    "OScount = df_clean['Overall satisfaction'].value_counts()\n",
    "# get bar chart\n",
    "OScount.plot(kind='bar')\n"
   ]
  },
  {
   "cell_type": "raw",
   "id": "dc5d99fc-f3b2-47f4-bb3f-5bd4e5a3c541",
   "metadata": {},
   "source": [
    "list(df_clean.columns[3:36].values.tolist())"
   ]
  },
  {
   "cell_type": "raw",
   "id": "3f572fdc-a0f0-4d4f-954d-5316cd12db36",
   "metadata": {},
   "source": [
    "#Subset of the data\n",
    "!pip install factor_analyzer  \n",
    "from factor_analyzer import FactorAnalyzer\n",
    "\n",
    "x =df_clean[df_clean.columns[3:36]]\n",
    "\n",
    "fa = FactorAnalyzer()\n",
    "fa.fit(x, 10)\n",
    "\n",
    "#Get Eigen values and plot\n",
    "ev, v = fa.get_eigenvalues()\n",
    "ev\n",
    "plt.plot(range(1,x.shape[1]+1),ev)"
   ]
  },
  {
   "cell_type": "raw",
   "id": "932b63de-adbe-46c3-9187-bd92676ebacf",
   "metadata": {},
   "source": [
    "#Conduct Shapiro-Wilks normality test \n",
    "from scipy import stats\n",
    "\n",
    "for i in df_clean.columns[3:36]:\n",
    "    print([i])\n",
    "    a,b = stats.shapiro(df_clean[[i]])\n",
    "    print(\"Statistics\", a, \"p-value\", b)\n",
    "    if b < a:\n",
    "        print(\"The null hypothesis can be rejected\")\n",
    "    else:\n",
    "        print(\"the null hypothesis cannot be rejected\")"
   ]
  },
  {
   "cell_type": "raw",
   "id": "75e156b9-b9a8-4712-a0cc-41487b9679ea",
   "metadata": {},
   "source": [
    "!pip install scipy\n",
    "from scipy.stats import studentized_range\n"
   ]
  },
  {
   "cell_type": "raw",
   "id": "7f07e55c-0f45-4ac7-9eb9-633408e86a5f",
   "metadata": {},
   "source": [
    "!pip install pingouin\n",
    "from pingouin import multivariate_normality"
   ]
  },
  {
   "cell_type": "raw",
   "id": "1161fbf3-1de2-4805-ba15-e73d694da1db",
   "metadata": {},
   "source": [
    "#Perform Mardia multivariate normality test\n",
    "multivariate_normality(x,alpha =.05)"
   ]
  },
  {
   "cell_type": "raw",
   "id": "a8a1b33e-c013-4611-8a3d-58f64bcef783",
   "metadata": {},
   "source": [
    "#Kaiser-Meyer-Olkin (KMO) Measure of Samnpling Adequacy (MSA)\n",
    "\n",
    "from factor_analyzer.factor_analyzer import calculate_kmo\n",
    "\n",
    "kmo_all,kmo_model=calculate_kmo(x)\n",
    "print(kmo_model)\n",
    "\n"
   ]
  },
  {
   "cell_type": "raw",
   "id": "8cd47844-74ac-471b-ad62-dd22990cdfe2",
   "metadata": {},
   "source": [
    "#Bartlet's test of sphericity\n",
    "from factor_analyzer.factor_analyzer import calculate_bartlett_sphericity\n",
    "\n",
    "chi_square_value,p_value=calculate_bartlett_sphericity(x)\n",
    "print(chi_square_value, p_value)"
   ]
  },
  {
   "cell_type": "raw",
   "id": "8fb66a17-935c-4ec5-adcc-d519e5b3f8df",
   "metadata": {},
   "source": [
    "#get load from factors\n",
    "fa = FactorAnalyzer(6, rotation='varimax', method='principal')\n",
    "fa.fit(x)\n",
    "loads = fa.loadings_\n",
    "print(loads)"
   ]
  },
  {
   "cell_type": "raw",
   "id": "6d6f1bd3-b6e9-4a2e-bbd5-244d84bbf88b",
   "metadata": {},
   "source": [
    "#Get factor correlation\n",
    "\n",
    "fa_corr = fa.corr_\n",
    "print(fa_corr)"
   ]
  },
  {
   "cell_type": "raw",
   "id": "c22685e8-490d-49c1-b069-4c31d614cff8",
   "metadata": {},
   "source": [
    "#Get rotation matrix\n",
    "\n",
    "fa_rotation = fa.rotation_matrix_\n",
    "print(fa_rotation)"
   ]
  },
  {
   "cell_type": "raw",
   "id": "4d6ce825-f04f-408e-aed8-6e124ff5bc88",
   "metadata": {},
   "source": [
    "#Get factor communalities\n",
    "\n",
    "fa_commu = fa.get_communalities()\n",
    "print(fa_commu)"
   ]
  },
  {
   "cell_type": "raw",
   "id": "a9a1edb4-364d-47d9-b8e1-eb28f387d604",
   "metadata": {},
   "source": [
    "#Get eigenvalues\n",
    "fa_ev = fa.get_eigenvalues()\n",
    "print(fa_ev)"
   ]
  },
  {
   "cell_type": "raw",
   "id": "7ad995a1-01f1-46ff-8bfa-b9cfafd0b661",
   "metadata": {},
   "source": [
    "#Get uniqueness\n",
    "fa_uniq = fa.get_uniquenesses()\n",
    "print(fa_uniq)"
   ]
  },
  {
   "cell_type": "raw",
   "id": "358c04fe-cc2f-48a9-90a0-c46b152c0a63",
   "metadata": {},
   "source": [
    "#Create Factors\n",
    "\n",
    "factor1 = df_clean[['Wait time at passport inspection', 'Courtesy of inspection staff', 'Courtesy of security staff', 'Thoroughness of security inspection', 'Wait time of security inspection', 'Feeling of safety and security' ]]\n",
    "factor2 = df_clean[['Ease of making connections', 'Courtesy of airport staff', 'Availability of banks/ATM/money changing', 'Shopping facilities', 'Shopping facilities (value for money)', 'Internet access' ]]\n",
    "factor3 = df_clean[['Ease of finding your way through the airport', 'Flight information screens','Walking distance inside terminal' ]]\n",
    "factor4 = df_clean[['Ground transportation to/from airport', 'Parking facilities', 'Parking facilities (value for money)', 'Availability of baggage carts']]\n",
    "factor5 = df_clean[['Efficiency of check-in staff', 'Check-in wait time', 'Courtesy of of check-in staff']]\n",
    "factor6 = df_clean[['Restaurants','Restaurants (value for money)']]"
   ]
  },
  {
   "cell_type": "raw",
   "id": "6772b2eb-52f5-4f7e-9d24-d463f85f80a6",
   "metadata": {},
   "source": [
    "#Get cronback alpha\n",
    "\n",
    "import pingouin as pg\n",
    "\n",
    "f1_alpha = pg.cronbach_alpha(factor1)\n",
    "f2_alpha = pg.cronbach_alpha(factor2)\n",
    "f3_alpha = pg.cronbach_alpha(factor3)\n",
    "f4_alpha = pg.cronbach_alpha(factor4)\n",
    "f5_alpha = pg.cronbach_alpha(factor5)\n",
    "f6_alpha = pg.cronbach_alpha(factor6)\n",
    "\n",
    "print(f1_alpha, f2_alpha, f3_alpha, f4_alpha, f5_alpha, f6_alpha, )"
   ]
  }
 ],
 "metadata": {
  "kernelspec": {
   "display_name": "Python 3",
   "language": "python",
   "name": "python3"
  },
  "language_info": {
   "codemirror_mode": {
    "name": "ipython",
    "version": 3
   },
   "file_extension": ".py",
   "mimetype": "text/x-python",
   "name": "python",
   "nbconvert_exporter": "python",
   "pygments_lexer": "ipython3",
   "version": "3.8.8"
  }
 },
 "nbformat": 4,
 "nbformat_minor": 5
}
