{
 "cells": [
  {
   "cell_type": "code",
   "execution_count": 1,
   "id": "0dbc1817",
   "metadata": {},
   "outputs": [],
   "source": [
    "from sklearn.datasets import make_blobs\n",
    "import pandas as pd\n",
    "from sklearn.cluster import KMeans\n",
    "from sklearn.decomposition import PCA\n",
    "import numpy as np"
   ]
  },
  {
   "cell_type": "code",
   "execution_count": 2,
   "id": "72ccde81",
   "metadata": {},
   "outputs": [
    {
     "data": {
      "text/plain": [
       "Education              object\n",
       "Marital_Status         object\n",
       "Income                  int64\n",
       "Kidhome                 int64\n",
       "Teenhome                int64\n",
       "Recency                 int64\n",
       "MntWines                int64\n",
       "MntFruits               int64\n",
       "MntMeatProducts         int64\n",
       "MntFishProducts         int64\n",
       "MntSweetProducts        int64\n",
       "MntGoldProds            int64\n",
       "NumDealsPurchases       int64\n",
       "NumWebPurchases         int64\n",
       "NumCatalogPurchases     int64\n",
       "NumStorePurchases       int64\n",
       "NumWebVisitsMonth       int64\n",
       "Complain                int64\n",
       "Year_Old                int64\n",
       "Year_Customer           int64\n",
       "dtype: object"
      ]
     },
     "execution_count": 2,
     "metadata": {},
     "output_type": "execute_result"
    }
   ],
   "source": [
    "#import marketing campaign dataset\n",
    "df = pd.read_csv(\"C:\\\\Users\\\\jason\\\\OneDrive\\\\Desktop\\\\NCU\\\\8550_Data Preparation Methods\\\\Week 8\\\\marketing_campaign_adj.csv\")\n",
    " #remove response variables\n",
    "df.drop(['Response','AcceptedCmp3', 'AcceptedCmp4', 'AcceptedCmp5', 'AcceptedCmp1', 'AcceptedCmp2'], \n",
    "        axis = 1, inplace=True)\n",
    "df.dtypes"
   ]
  },
  {
   "cell_type": "code",
   "execution_count": 3,
   "id": "4e0d28d9",
   "metadata": {},
   "outputs": [],
   "source": [
    "#Encode values for Education and Marital_Status\n",
    "df[\"Education\"].replace({\"Graduation\" : \"0\", \"PhD\" : \"1\", \"Master\" : \"2\", \"Basic\" : \"3\", \"2n Cycle\" : \"4\"}, \n",
    "                       inplace=True)\n",
    "df[\"Marital_Status\"].replace({\"Single\":\"0\", \"Alone\":\"0\", \"Together\":\"1\", \"Married\":\"1\", \"Divorced\":\"2\", \n",
    "                             \"Widow\":\"3\", \"Absurd\":\"4\", \"YOLO\":\"4\"}, inplace=True)"
   ]
  },
  {
   "cell_type": "code",
   "execution_count": 4,
   "id": "0d7860d9",
   "metadata": {},
   "outputs": [
    {
     "data": {
      "text/plain": [
       "Education              int64\n",
       "Marital_Status         int64\n",
       "Income                 int64\n",
       "Kidhome                int64\n",
       "Teenhome               int64\n",
       "Recency                int64\n",
       "MntWines               int64\n",
       "MntFruits              int64\n",
       "MntMeatProducts        int64\n",
       "MntFishProducts        int64\n",
       "MntSweetProducts       int64\n",
       "MntGoldProds           int64\n",
       "NumDealsPurchases      int64\n",
       "NumWebPurchases        int64\n",
       "NumCatalogPurchases    int64\n",
       "NumStorePurchases      int64\n",
       "NumWebVisitsMonth      int64\n",
       "Complain               int64\n",
       "Year_Old               int64\n",
       "Year_Customer          int64\n",
       "dtype: object"
      ]
     },
     "execution_count": 4,
     "metadata": {},
     "output_type": "execute_result"
    }
   ],
   "source": [
    "#change data type for Education and Marital_Status as 'int64'\n",
    "\n",
    "df.Education = df.Education.astype('int64')\n",
    "df.Marital_Status = df.Marital_Status.astype('int64')\n",
    "\n",
    "df.dtypes"
   ]
  },
  {
   "cell_type": "code",
   "execution_count": 5,
   "id": "6f1cd4db",
   "metadata": {},
   "outputs": [
    {
     "name": "stdout",
     "output_type": "stream",
     "text": [
      "Explained variation per principal component: [9.99817647e-01 1.27808990e-04]\n",
      "Cumulative variance explained by 2 principal components: 99.99%\n"
     ]
    }
   ],
   "source": [
    "pca_2 = PCA(n_components=2)\n",
    "pca_2_result = pca_2.fit_transform(df)\n",
    "print('Explained variation per principal component: {}'.format(pca_2.explained_variance_ratio_))\n",
    "#Explained variation per principal component: [9.99817646e-01 1.27809020e-04]\n",
    "print('Cumulative variance explained by 2 principal components: {:.2%}'.format(np.sum(pca_2.explained_variance_ratio_)))\n",
    "#Cumulative variance explained by 2 principal components: 99.99%\n",
    "df_scale = pca_2_result"
   ]
  },
  {
   "cell_type": "code",
   "execution_count": 6,
   "id": "ebc0aa58",
   "metadata": {},
   "outputs": [],
   "source": [
    "df_scale = pd.DataFrame(df_scale)"
   ]
  },
  {
   "cell_type": "code",
   "execution_count": 7,
   "id": "e85ffaf5",
   "metadata": {},
   "outputs": [
    {
     "name": "stdout",
     "output_type": "stream",
     "text": [
      "              var1        var2\n",
      "0      6454.880145 -398.947230\n",
      "1     -5346.327527  287.930370\n",
      "2     19925.505677   73.354336\n",
      "3    -25043.429177  107.598475\n",
      "4      6604.037936  198.252455\n",
      "...            ...         ...\n",
      "2235   9538.464797 -312.156397\n",
      "2236  12326.018863   68.697247\n",
      "2237   5298.087321 -531.946118\n",
      "2238  17558.031104   20.550280\n",
      "2239   1179.233451  257.542126\n",
      "\n",
      "[2240 rows x 2 columns]\n"
     ]
    }
   ],
   "source": [
    "#add column names\n",
    "df_scale.columns = [\"var1\", \"var2\"]\n",
    "print(df_scale)"
   ]
  },
  {
   "cell_type": "code",
   "execution_count": 8,
   "id": "7676d2b4",
   "metadata": {},
   "outputs": [
    {
     "data": {
      "image/png": "[encoded data removed]",
      "text/plain": [
       "<Figure size 576x396 with 2 Axes>"
      ]
     },
     "metadata": {},
     "output_type": "display_data"
    },
    {
     "data": {
      "text/plain": [
       "<AxesSubplot:title={'center':'Distortion Score Elbow for KMeans Clustering'}, xlabel='k', ylabel='distortion score'>"
      ]
     },
     "execution_count": 8,
     "metadata": {},
     "output_type": "execute_result"
    }
   ],
   "source": [
    "from yellowbrick.cluster import KElbowVisualizer\n",
    "model = KMeans()\n",
    "visualizer = KElbowVisualizer(model, K=(1,5)).fit(df_scale)\n",
    "visualizer.show()\n",
    "#Results show optimal cluster is 4"
   ]
  },
  {
   "cell_type": "code",
   "execution_count": 9,
   "id": "99fbba1a",
   "metadata": {},
   "outputs": [],
   "source": [
    "from sklearn.cluster import KMeans\n",
    "kmeans = KMeans(n_clusters=4, init='k-means++', random_state=0).fit(df_scale)\n"
   ]
  },
  {
   "cell_type": "code",
   "execution_count": 10,
   "id": "c3a53fc4",
   "metadata": {},
   "outputs": [
    {
     "data": {
      "text/html": [
       "<div>\n",
       "<style scoped>\n",
       "    .dataframe tbody tr th:only-of-type {\n",
       "        vertical-align: middle;\n",
       "    }\n",
       "\n",
       "    .dataframe tbody tr th {\n",
       "        vertical-align: top;\n",
       "    }\n",
       "\n",
       "    .dataframe thead th {\n",
       "        text-align: right;\n",
       "    }\n",
       "</style>\n",
       "<table border=\"1\" class=\"dataframe\">\n",
       "  <thead>\n",
       "    <tr style=\"text-align: right;\">\n",
       "      <th></th>\n",
       "      <th>Cluster</th>\n",
       "    </tr>\n",
       "  </thead>\n",
       "  <tbody>\n",
       "    <tr>\n",
       "      <th>0</th>\n",
       "      <td>0</td>\n",
       "    </tr>\n",
       "    <tr>\n",
       "      <th>1</th>\n",
       "      <td>0</td>\n",
       "    </tr>\n",
       "    <tr>\n",
       "      <th>2</th>\n",
       "      <td>3</td>\n",
       "    </tr>\n",
       "    <tr>\n",
       "      <th>3</th>\n",
       "      <td>1</td>\n",
       "    </tr>\n",
       "    <tr>\n",
       "      <th>4</th>\n",
       "      <td>0</td>\n",
       "    </tr>\n",
       "    <tr>\n",
       "      <th>...</th>\n",
       "      <td>...</td>\n",
       "    </tr>\n",
       "    <tr>\n",
       "      <th>2235</th>\n",
       "      <td>0</td>\n",
       "    </tr>\n",
       "    <tr>\n",
       "      <th>2236</th>\n",
       "      <td>0</td>\n",
       "    </tr>\n",
       "    <tr>\n",
       "      <th>2237</th>\n",
       "      <td>0</td>\n",
       "    </tr>\n",
       "    <tr>\n",
       "      <th>2238</th>\n",
       "      <td>3</td>\n",
       "    </tr>\n",
       "    <tr>\n",
       "      <th>2239</th>\n",
       "      <td>0</td>\n",
       "    </tr>\n",
       "  </tbody>\n",
       "</table>\n",
       "<p>2240 rows × 1 columns</p>\n",
       "</div>"
      ],
      "text/plain": [
       "      Cluster\n",
       "0           0\n",
       "1           0\n",
       "2           3\n",
       "3           1\n",
       "4           0\n",
       "...       ...\n",
       "2235        0\n",
       "2236        0\n",
       "2237        0\n",
       "2238        3\n",
       "2239        0\n",
       "\n",
       "[2240 rows x 1 columns]"
      ]
     },
     "execution_count": 10,
     "metadata": {},
     "output_type": "execute_result"
    }
   ],
   "source": [
    "#labels_ : gives predicted class labels (cluster) for each data point\n",
    "kmeans.labels_  # same as kmeans.predict(df)\n",
    "klables = pd.DataFrame(kmeans.labels_)\n",
    "klables.columns = [\"Cluster\"]\n",
    "klables"
   ]
  },
  {
   "cell_type": "code",
   "execution_count": 11,
   "id": "801bdf22",
   "metadata": {},
   "outputs": [
    {
     "data": {
      "text/plain": [
       "201510441277.87555"
      ]
     },
     "execution_count": 11,
     "metadata": {},
     "output_type": "execute_result"
    }
   ],
   "source": [
    "#inertia_ : gives within-cluster sum of squares. \n",
    "#This is a total of the within-cluster sum of squares for all clusters.\n",
    "kmeans.inertia_"
   ]
  },
  {
   "cell_type": "code",
   "execution_count": 12,
   "id": "9e98d4ab",
   "metadata": {},
   "outputs": [
    {
     "data": {
      "text/plain": [
       "4"
      ]
     },
     "execution_count": 12,
     "metadata": {},
     "output_type": "execute_result"
    }
   ],
   "source": [
    "#n_iter_ : number of iterations that k-means algorithm runs to get \n",
    "#a minimum within-cluster sum of squares\n",
    "kmeans.n_iter_"
   ]
  },
  {
   "cell_type": "code",
   "execution_count": 13,
   "id": "86407197",
   "metadata": {},
   "outputs": [
    {
     "data": {
      "text/plain": [
       "array([[ 7.04304120e+01,  5.04652136e+01],\n",
       "       [-2.47367563e+04,  8.41604377e+01],\n",
       "       [ 6.14949895e+05,  5.79345459e+03],\n",
       "       [ 2.50856720e+04, -1.55195327e+02]])"
      ]
     },
     "execution_count": 13,
     "metadata": {},
     "output_type": "execute_result"
    }
   ],
   "source": [
    "#cluster_centers_ : Location of the centroids on each cluster. \n",
    "kmeans.cluster_centers_"
   ]
  },
  {
   "cell_type": "code",
   "execution_count": 14,
   "id": "0ffd620f",
   "metadata": {},
   "outputs": [
    {
     "data": {
      "text/plain": [
       "Counter({0: 805, 3: 698, 1: 736, 2: 1})"
      ]
     },
     "execution_count": 14,
     "metadata": {},
     "output_type": "execute_result"
    }
   ],
   "source": [
    "#Get each cluster size\n",
    "from collections import Counter\n",
    "Counter(kmeans.labels_)"
   ]
  },
  {
   "cell_type": "code",
   "execution_count": 15,
   "id": "dd439481",
   "metadata": {},
   "outputs": [
    {
     "data": {
      "image/png": "[encoded data removed]",
      "text/plain": [
       "<Figure size 576x396 with 1 Axes>"
      ]
     },
     "metadata": {},
     "output_type": "display_data"
    }
   ],
   "source": [
    "#Visualization of K-means Clustering\n",
    "import seaborn as sns\n",
    "import matplotlib.pyplot as plt\n",
    "sns.scatterplot(data=df_scale, x=\"var1\", y=\"var2\", hue=kmeans.labels_)\n",
    "plt.show()"
   ]
  },
  {
   "cell_type": "code",
   "execution_count": 16,
   "id": "475811e9",
   "metadata": {},
   "outputs": [
    {
     "data": {
      "text/html": [
       "<div>\n",
       "<style scoped>\n",
       "    .dataframe tbody tr th:only-of-type {\n",
       "        vertical-align: middle;\n",
       "    }\n",
       "\n",
       "    .dataframe tbody tr th {\n",
       "        vertical-align: top;\n",
       "    }\n",
       "\n",
       "    .dataframe thead th {\n",
       "        text-align: right;\n",
       "    }\n",
       "</style>\n",
       "<table border=\"1\" class=\"dataframe\">\n",
       "  <thead>\n",
       "    <tr style=\"text-align: right;\">\n",
       "      <th></th>\n",
       "      <th>Education</th>\n",
       "      <th>Marital_Status</th>\n",
       "      <th>Income</th>\n",
       "      <th>Kidhome</th>\n",
       "      <th>Teenhome</th>\n",
       "      <th>Recency</th>\n",
       "      <th>MntWines</th>\n",
       "      <th>MntFruits</th>\n",
       "      <th>MntMeatProducts</th>\n",
       "      <th>MntFishProducts</th>\n",
       "      <th>...</th>\n",
       "      <th>MntGoldProds</th>\n",
       "      <th>NumDealsPurchases</th>\n",
       "      <th>NumWebPurchases</th>\n",
       "      <th>NumCatalogPurchases</th>\n",
       "      <th>NumStorePurchases</th>\n",
       "      <th>NumWebVisitsMonth</th>\n",
       "      <th>Complain</th>\n",
       "      <th>Year_Old</th>\n",
       "      <th>Year_Customer</th>\n",
       "      <th>Cluster</th>\n",
       "    </tr>\n",
       "  </thead>\n",
       "  <tbody>\n",
       "    <tr>\n",
       "      <th>0</th>\n",
       "      <td>0</td>\n",
       "      <td>0</td>\n",
       "      <td>58138</td>\n",
       "      <td>0</td>\n",
       "      <td>0</td>\n",
       "      <td>58</td>\n",
       "      <td>635</td>\n",
       "      <td>88</td>\n",
       "      <td>546</td>\n",
       "      <td>172</td>\n",
       "      <td>...</td>\n",
       "      <td>88</td>\n",
       "      <td>3</td>\n",
       "      <td>8</td>\n",
       "      <td>10</td>\n",
       "      <td>4</td>\n",
       "      <td>7</td>\n",
       "      <td>0</td>\n",
       "      <td>57</td>\n",
       "      <td>2</td>\n",
       "      <td>0</td>\n",
       "    </tr>\n",
       "    <tr>\n",
       "      <th>1</th>\n",
       "      <td>0</td>\n",
       "      <td>0</td>\n",
       "      <td>46344</td>\n",
       "      <td>1</td>\n",
       "      <td>1</td>\n",
       "      <td>38</td>\n",
       "      <td>11</td>\n",
       "      <td>1</td>\n",
       "      <td>6</td>\n",
       "      <td>2</td>\n",
       "      <td>...</td>\n",
       "      <td>6</td>\n",
       "      <td>2</td>\n",
       "      <td>1</td>\n",
       "      <td>1</td>\n",
       "      <td>2</td>\n",
       "      <td>5</td>\n",
       "      <td>0</td>\n",
       "      <td>60</td>\n",
       "      <td>0</td>\n",
       "      <td>0</td>\n",
       "    </tr>\n",
       "    <tr>\n",
       "      <th>2</th>\n",
       "      <td>0</td>\n",
       "      <td>1</td>\n",
       "      <td>71613</td>\n",
       "      <td>0</td>\n",
       "      <td>0</td>\n",
       "      <td>26</td>\n",
       "      <td>426</td>\n",
       "      <td>49</td>\n",
       "      <td>127</td>\n",
       "      <td>111</td>\n",
       "      <td>...</td>\n",
       "      <td>42</td>\n",
       "      <td>1</td>\n",
       "      <td>8</td>\n",
       "      <td>2</td>\n",
       "      <td>10</td>\n",
       "      <td>4</td>\n",
       "      <td>0</td>\n",
       "      <td>49</td>\n",
       "      <td>1</td>\n",
       "      <td>3</td>\n",
       "    </tr>\n",
       "    <tr>\n",
       "      <th>3</th>\n",
       "      <td>0</td>\n",
       "      <td>1</td>\n",
       "      <td>26646</td>\n",
       "      <td>1</td>\n",
       "      <td>0</td>\n",
       "      <td>26</td>\n",
       "      <td>11</td>\n",
       "      <td>4</td>\n",
       "      <td>20</td>\n",
       "      <td>10</td>\n",
       "      <td>...</td>\n",
       "      <td>5</td>\n",
       "      <td>2</td>\n",
       "      <td>2</td>\n",
       "      <td>0</td>\n",
       "      <td>4</td>\n",
       "      <td>6</td>\n",
       "      <td>0</td>\n",
       "      <td>30</td>\n",
       "      <td>0</td>\n",
       "      <td>1</td>\n",
       "    </tr>\n",
       "    <tr>\n",
       "      <th>4</th>\n",
       "      <td>1</td>\n",
       "      <td>1</td>\n",
       "      <td>58293</td>\n",
       "      <td>1</td>\n",
       "      <td>0</td>\n",
       "      <td>94</td>\n",
       "      <td>173</td>\n",
       "      <td>43</td>\n",
       "      <td>118</td>\n",
       "      <td>46</td>\n",
       "      <td>...</td>\n",
       "      <td>15</td>\n",
       "      <td>5</td>\n",
       "      <td>5</td>\n",
       "      <td>3</td>\n",
       "      <td>6</td>\n",
       "      <td>5</td>\n",
       "      <td>0</td>\n",
       "      <td>33</td>\n",
       "      <td>0</td>\n",
       "      <td>0</td>\n",
       "    </tr>\n",
       "    <tr>\n",
       "      <th>...</th>\n",
       "      <td>...</td>\n",
       "      <td>...</td>\n",
       "      <td>...</td>\n",
       "      <td>...</td>\n",
       "      <td>...</td>\n",
       "      <td>...</td>\n",
       "      <td>...</td>\n",
       "      <td>...</td>\n",
       "      <td>...</td>\n",
       "      <td>...</td>\n",
       "      <td>...</td>\n",
       "      <td>...</td>\n",
       "      <td>...</td>\n",
       "      <td>...</td>\n",
       "      <td>...</td>\n",
       "      <td>...</td>\n",
       "      <td>...</td>\n",
       "      <td>...</td>\n",
       "      <td>...</td>\n",
       "      <td>...</td>\n",
       "      <td>...</td>\n",
       "    </tr>\n",
       "    <tr>\n",
       "      <th>2235</th>\n",
       "      <td>0</td>\n",
       "      <td>1</td>\n",
       "      <td>61223</td>\n",
       "      <td>0</td>\n",
       "      <td>1</td>\n",
       "      <td>46</td>\n",
       "      <td>709</td>\n",
       "      <td>43</td>\n",
       "      <td>182</td>\n",
       "      <td>42</td>\n",
       "      <td>...</td>\n",
       "      <td>247</td>\n",
       "      <td>2</td>\n",
       "      <td>9</td>\n",
       "      <td>3</td>\n",
       "      <td>4</td>\n",
       "      <td>5</td>\n",
       "      <td>0</td>\n",
       "      <td>47</td>\n",
       "      <td>1</td>\n",
       "      <td>0</td>\n",
       "    </tr>\n",
       "    <tr>\n",
       "      <th>2236</th>\n",
       "      <td>1</td>\n",
       "      <td>1</td>\n",
       "      <td>64014</td>\n",
       "      <td>2</td>\n",
       "      <td>1</td>\n",
       "      <td>56</td>\n",
       "      <td>406</td>\n",
       "      <td>0</td>\n",
       "      <td>30</td>\n",
       "      <td>0</td>\n",
       "      <td>...</td>\n",
       "      <td>8</td>\n",
       "      <td>7</td>\n",
       "      <td>8</td>\n",
       "      <td>2</td>\n",
       "      <td>5</td>\n",
       "      <td>7</td>\n",
       "      <td>0</td>\n",
       "      <td>68</td>\n",
       "      <td>0</td>\n",
       "      <td>0</td>\n",
       "    </tr>\n",
       "    <tr>\n",
       "      <th>2237</th>\n",
       "      <td>0</td>\n",
       "      <td>2</td>\n",
       "      <td>56981</td>\n",
       "      <td>0</td>\n",
       "      <td>0</td>\n",
       "      <td>91</td>\n",
       "      <td>908</td>\n",
       "      <td>48</td>\n",
       "      <td>217</td>\n",
       "      <td>32</td>\n",
       "      <td>...</td>\n",
       "      <td>24</td>\n",
       "      <td>1</td>\n",
       "      <td>2</td>\n",
       "      <td>3</td>\n",
       "      <td>13</td>\n",
       "      <td>6</td>\n",
       "      <td>0</td>\n",
       "      <td>33</td>\n",
       "      <td>0</td>\n",
       "      <td>0</td>\n",
       "    </tr>\n",
       "    <tr>\n",
       "      <th>2238</th>\n",
       "      <td>2</td>\n",
       "      <td>1</td>\n",
       "      <td>69245</td>\n",
       "      <td>0</td>\n",
       "      <td>1</td>\n",
       "      <td>8</td>\n",
       "      <td>428</td>\n",
       "      <td>30</td>\n",
       "      <td>214</td>\n",
       "      <td>80</td>\n",
       "      <td>...</td>\n",
       "      <td>61</td>\n",
       "      <td>2</td>\n",
       "      <td>6</td>\n",
       "      <td>5</td>\n",
       "      <td>10</td>\n",
       "      <td>3</td>\n",
       "      <td>0</td>\n",
       "      <td>58</td>\n",
       "      <td>0</td>\n",
       "      <td>3</td>\n",
       "    </tr>\n",
       "    <tr>\n",
       "      <th>2239</th>\n",
       "      <td>1</td>\n",
       "      <td>1</td>\n",
       "      <td>52869</td>\n",
       "      <td>1</td>\n",
       "      <td>1</td>\n",
       "      <td>40</td>\n",
       "      <td>84</td>\n",
       "      <td>3</td>\n",
       "      <td>61</td>\n",
       "      <td>2</td>\n",
       "      <td>...</td>\n",
       "      <td>21</td>\n",
       "      <td>3</td>\n",
       "      <td>3</td>\n",
       "      <td>1</td>\n",
       "      <td>4</td>\n",
       "      <td>7</td>\n",
       "      <td>0</td>\n",
       "      <td>60</td>\n",
       "      <td>2</td>\n",
       "      <td>0</td>\n",
       "    </tr>\n",
       "  </tbody>\n",
       "</table>\n",
       "<p>2240 rows × 21 columns</p>\n",
       "</div>"
      ],
      "text/plain": [
       "      Education  Marital_Status  Income  Kidhome  Teenhome  Recency  MntWines  \\\n",
       "0             0               0   58138        0         0       58       635   \n",
       "1             0               0   46344        1         1       38        11   \n",
       "2             0               1   71613        0         0       26       426   \n",
       "3             0               1   26646        1         0       26        11   \n",
       "4             1               1   58293        1         0       94       173   \n",
       "...         ...             ...     ...      ...       ...      ...       ...   \n",
       "2235          0               1   61223        0         1       46       709   \n",
       "2236          1               1   64014        2         1       56       406   \n",
       "2237          0               2   56981        0         0       91       908   \n",
       "2238          2               1   69245        0         1        8       428   \n",
       "2239          1               1   52869        1         1       40        84   \n",
       "\n",
       "      MntFruits  MntMeatProducts  MntFishProducts  ...  MntGoldProds  \\\n",
       "0            88              546              172  ...            88   \n",
       "1             1                6                2  ...             6   \n",
       "2            49              127              111  ...            42   \n",
       "3             4               20               10  ...             5   \n",
       "4            43              118               46  ...            15   \n",
       "...         ...              ...              ...  ...           ...   \n",
       "2235         43              182               42  ...           247   \n",
       "2236          0               30                0  ...             8   \n",
       "2237         48              217               32  ...            24   \n",
       "2238         30              214               80  ...            61   \n",
       "2239          3               61                2  ...            21   \n",
       "\n",
       "      NumDealsPurchases  NumWebPurchases  NumCatalogPurchases  \\\n",
       "0                     3                8                   10   \n",
       "1                     2                1                    1   \n",
       "2                     1                8                    2   \n",
       "3                     2                2                    0   \n",
       "4                     5                5                    3   \n",
       "...                 ...              ...                  ...   \n",
       "2235                  2                9                    3   \n",
       "2236                  7                8                    2   \n",
       "2237                  1                2                    3   \n",
       "2238                  2                6                    5   \n",
       "2239                  3                3                    1   \n",
       "\n",
       "      NumStorePurchases  NumWebVisitsMonth  Complain  Year_Old  Year_Customer  \\\n",
       "0                     4                  7         0        57              2   \n",
       "1                     2                  5         0        60              0   \n",
       "2                    10                  4         0        49              1   \n",
       "3                     4                  6         0        30              0   \n",
       "4                     6                  5         0        33              0   \n",
       "...                 ...                ...       ...       ...            ...   \n",
       "2235                  4                  5         0        47              1   \n",
       "2236                  5                  7         0        68              0   \n",
       "2237                 13                  6         0        33              0   \n",
       "2238                 10                  3         0        58              0   \n",
       "2239                  4                  7         0        60              2   \n",
       "\n",
       "      Cluster  \n",
       "0           0  \n",
       "1           0  \n",
       "2           3  \n",
       "3           1  \n",
       "4           0  \n",
       "...       ...  \n",
       "2235        0  \n",
       "2236        0  \n",
       "2237        0  \n",
       "2238        3  \n",
       "2239        0  \n",
       "\n",
       "[2240 rows x 21 columns]"
      ]
     },
     "execution_count": 16,
     "metadata": {},
     "output_type": "execute_result"
    }
   ],
   "source": [
    "#Combine Cluster Results to Dataset\n",
    "clus_res = pd.concat([df,klables], axis=1, ignore_index=False)\n",
    "clus_res"
   ]
  },
  {
   "cell_type": "code",
   "execution_count": 17,
   "id": "346ebf9d",
   "metadata": {},
   "outputs": [
    {
     "data": {
      "text/plain": [
       "['Education',\n",
       " 'Marital_Status',\n",
       " 'Income',\n",
       " 'Kidhome',\n",
       " 'Teenhome',\n",
       " 'Recency',\n",
       " 'MntWines',\n",
       " 'MntFruits',\n",
       " 'MntMeatProducts',\n",
       " 'MntFishProducts',\n",
       " 'MntSweetProducts',\n",
       " 'MntGoldProds',\n",
       " 'NumDealsPurchases',\n",
       " 'NumWebPurchases',\n",
       " 'NumCatalogPurchases',\n",
       " 'NumStorePurchases',\n",
       " 'NumWebVisitsMonth',\n",
       " 'AcceptedCmp3',\n",
       " 'AcceptedCmp4',\n",
       " 'AcceptedCmp5',\n",
       " 'AcceptedCmp1',\n",
       " 'AcceptedCmp2',\n",
       " 'Complain',\n",
       " 'Year_Old',\n",
       " 'Year_Customer',\n",
       " 'Response']"
      ]
     },
     "execution_count": 17,
     "metadata": {},
     "output_type": "execute_result"
    }
   ],
   "source": [
    "df_response = pd.read_csv(\"C:\\\\Users\\\\jason\\\\OneDrive\\\\Desktop\\\\NCU\\\\8550_Data Preparation Methods\\\\Week 8\\\n",
    "\\marketing_campaign_adj.csv\")\n",
    "list(df_response)"
   ]
  },
  {
   "cell_type": "code",
   "execution_count": 30,
   "id": "0b74c5a7",
   "metadata": {},
   "outputs": [
    {
     "data": {
      "text/plain": [
       "['Education',\n",
       " 'Marital_Status',\n",
       " 'Income',\n",
       " 'Kidhome',\n",
       " 'Teenhome',\n",
       " 'Recency',\n",
       " 'MntWines',\n",
       " 'MntFruits',\n",
       " 'MntMeatProducts',\n",
       " 'MntFishProducts',\n",
       " 'MntSweetProducts',\n",
       " 'MntGoldProds',\n",
       " 'NumDealsPurchases',\n",
       " 'NumWebPurchases',\n",
       " 'NumCatalogPurchases',\n",
       " 'NumStorePurchases',\n",
       " 'NumWebVisitsMonth',\n",
       " 'Complain',\n",
       " 'Year_Old',\n",
       " 'Year_Customer',\n",
       " 'Cluster',\n",
       " 'Response']"
      ]
     },
     "execution_count": 30,
     "metadata": {},
     "output_type": "execute_result"
    }
   ],
   "source": [
    "#Combine Response variables to Dataset\n",
    "comb_data = pd.concat([clus_res, df_response['Response']], axis=1, ignore_index=False)\n",
    "list(comb_data)"
   ]
  },
  {
   "cell_type": "code",
   "execution_count": 19,
   "id": "8b04df62",
   "metadata": {},
   "outputs": [],
   "source": [
    "comb_data.to_csv(r'C:\\\\Users\\\\jason\\\\OneDrive\\\\Desktop\\\\NCU\\\\8550_Data Preparation Methods\\\\Week 8\\\\comb_data.csv', index = False)"
   ]
  },
  {
   "cell_type": "code",
   "execution_count": 35,
   "id": "8a73f401",
   "metadata": {},
   "outputs": [
    {
     "name": "stdout",
     "output_type": "stream",
     "text": [
      "    Education  Marital_Status  Income  Kidhome  Teenhome  Recency  MntWines  \\\n",
      "2           0               1   71613        0         0       26       426   \n",
      "15          1               0   82800        0         0       23      1006   \n",
      "18          2               1   76995        0         1       91      1012   \n",
      "23          1               1   65324        0         1        0       384   \n",
      "29          1               1   84618        0         0       96       684   \n",
      "\n",
      "    MntFruits  MntMeatProducts  MntFishProducts  ...  NumDealsPurchases  \\\n",
      "2          49              127              111  ...                  1   \n",
      "15         22              115               59  ...                  1   \n",
      "18         80              498                0  ...                  2   \n",
      "23          0              102               21  ...                  3   \n",
      "29        100              801               21  ...                  1   \n",
      "\n",
      "    NumWebPurchases  NumCatalogPurchases  NumStorePurchases  \\\n",
      "2                 8                    2                 10   \n",
      "15                7                    6                 12   \n",
      "18               11                    4                  9   \n",
      "23                6                    2                  9   \n",
      "29                6                    9                 10   \n",
      "\n",
      "    NumWebVisitsMonth  Complain  Year_Old  Year_Customer  Cluster  Response  \n",
      "2                   4         0        49              1        3         0  \n",
      "15                  3         0        68              2        3         1  \n",
      "18                  5         0        65              1        3         0  \n",
      "23                  4         0        60              0        3         0  \n",
      "29                  2         0        49              1        3         0  \n",
      "\n",
      "[5 rows x 22 columns]\n"
     ]
    }
   ],
   "source": [
    "#Filter dataset for cluster 3\n",
    "cluster_3 = comb_data[comb_data['Cluster']==3]\n",
    "print(cluster_3.head())\n"
   ]
  },
  {
   "cell_type": "code",
   "execution_count": 41,
   "id": "183df08a",
   "metadata": {},
   "outputs": [],
   "source": [
    "cluster3_descriptive = cluster_3.describe()\n",
    "\n",
    "cluster3_descriptive.to_csv(r'C:\\\\Users\\\\jason\\\\OneDrive\\\\Desktop\\\\NCU\\\\8550_Data Preparation Methods\\\\Week 8\\\\cluster3_descriptive.csv', index = True)"
   ]
  }
 ],
 "metadata": {
  "kernelspec": {
   "display_name": "Python 3",
   "language": "python",
   "name": "python3"
  },
  "language_info": {
   "codemirror_mode": {
    "name": "ipython",
    "version": 3
   },
   "file_extension": ".py",
   "mimetype": "text/x-python",
   "name": "python",
   "nbconvert_exporter": "python",
   "pygments_lexer": "ipython3",
   "version": "3.8.8"
  }
 },
 "nbformat": 4,
 "nbformat_minor": 5
}
